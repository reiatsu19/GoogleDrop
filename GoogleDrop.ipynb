{
  "nbformat": 4,
  "nbformat_minor": 0,
  "metadata": {
    "colab": {
      "provenance": [],
      "authorship_tag": "ABX9TyNbwgwzVi45wbsDs/krNKm2"
    },
    "kernelspec": {
      "name": "python3",
      "display_name": "Python 3"
    },
    "language_info": {
      "name": "python"
    }
  },
  "cells": [
    {
      "cell_type": "markdown",
      "source": [
        "# GoogleDrop: Email Attachment to Google Drive\n",
        "\n",
        "This notebook connects to a Gmail inbox, filters recent emails based on subject and date, downloads PDF attachments (such as invoices), and uploads them to Google Drive using Python.\n",
        "It demonstrates a practical cloud automation workflow combining email parsing, file filtering, and cloud storage integration via Google Drive API.\n"
      ],
      "metadata": {
        "id": "lL_yRG3btFB5"
      }
    },
    {
      "cell_type": "code",
      "source": [
        "# Install the official Google API Python client (used for Google Drive API v3)\n",
        "!pip install -U -q google-api-python-client"
      ],
      "metadata": {
        "id": "WcrHrKhktuSd"
      },
      "execution_count": 7,
      "outputs": []
    },
    {
      "cell_type": "code",
      "source": [
        "# Email handling\n",
        "import imaplib\n",
        "import email\n",
        "import getpass\n",
        "import os\n",
        "import glob\n",
        "from email import policy\n",
        "from email.parser import BytesParser\n",
        "\n",
        "# Google Drive API (official v3)\n",
        "from google.colab import auth\n",
        "from googleapiclient.discovery import build\n",
        "from googleapiclient.http import MediaFileUpload"
      ],
      "metadata": {
        "id": "WIQGrxL0tyxH"
      },
      "execution_count": 8,
      "outputs": []
    },
    {
      "cell_type": "code",
      "source": [
        "#Setup login credentials\n",
        "gmail_user = \"anildev7111@gmail.com\"\n",
        "gmail_pass = getpass.getpass(\"Enter your app password: \")\n",
        "\n",
        "#Connecting to gmail IMAP server\n",
        "imap = imaplib.IMAP4_SSL(\"imap.gmail.com\")\n",
        "\n",
        "#Login using IMAP\n",
        "imap.login(gmail_user, gmail_pass)\n",
        "\n",
        "#make local folder for file\n",
        "save_folder = \"invoices\"\n",
        "os.makedirs(save_folder, exist_ok=True)"
      ],
      "metadata": {
        "colab": {
          "base_uri": "https://localhost:8080/"
        },
        "id": "UZ6jtc7BN98I",
        "outputId": "1b8cd370-b8dd-4d4d-a393-81fbc690526e"
      },
      "execution_count": 9,
      "outputs": [
        {
          "name": "stdout",
          "output_type": "stream",
          "text": [
            "Enter your app password: ··········\n"
          ]
        }
      ]
    },
    {
      "cell_type": "code",
      "source": [
        "#selecting folder to filter through\n",
        "imap.select(\"INBOX\")\n",
        "\n",
        "#defining specific email cc address\n",
        "to_address = \"anildev7111@gmail.com\"\n",
        "subject_keyword = \"Invoice\"\n",
        "since_date = \"05-Jun-2025\"  # Format must be DD-MMM-YYYY for IMAP\n",
        "\n",
        "#set search criteria to TO address\n",
        "search_criteria = f'(TO \"{to_address}\" SUBJECT \"{subject_keyword}\" SINCE \"{since_date}\")'\n",
        "\n",
        "#launch search\n",
        "status,messages = imap.search(None, search_criteria)\n",
        "\n",
        "#decode results\n",
        "emails = messages[0].split()\n",
        "\n",
        "# Track how many have PDFs\n",
        "pdf_count = 0\n",
        "saved_count = 0\n",
        "skipped_count = 0\n",
        "\n",
        "# Loop through all matching emails\n",
        "for email_id in emails:\n",
        "    # Fetch the raw email\n",
        "    res, msg_data = imap.fetch(email_id, \"(RFC822)\")\n",
        "    if res != 'OK':\n",
        "        print(f\"Failed to fetch email ID {email_id}\")\n",
        "        continue\n",
        "\n",
        "    # Parse email\n",
        "    raw_email = msg_data[0][1]\n",
        "    msg = email.message_from_bytes(raw_email, policy=policy.default)\n",
        "\n",
        "    # Optional: Show subject for tracking\n",
        "    #print(f\"\\n📧 Subject: {msg['Subject']}\")\n",
        "\n",
        "    # Walk through the email parts to find attachments\n",
        "    for part in msg.walk():\n",
        "        if part.get_content_disposition() == 'attachment':\n",
        "            filename = part.get_filename()\n",
        "            if filename and filename.lower().endswith(\".pdf\"):\n",
        "              filepath = os.path.join(save_folder, filename)\n",
        "              if os.path.exists(filepath):\n",
        "                skipped_count += 1\n",
        "              else:\n",
        "                with open(filepath, \"wb\") as f:\n",
        "                    f.write(part.get_payload(decode=True))\n",
        "                    saved_count += 1\n",
        "                    pdf_count += 1\n",
        "\n",
        "# After loop finishes\n",
        "print(f\"Summary:\")\n",
        "print(f\"PDFs saved = {saved_count}\")\n",
        "print(f\"PDFs skipped = {skipped_count}\")\n",
        "print(f\"Emails processed = {len(emails)}\")\n"
      ],
      "metadata": {
        "id": "p9ijcW9K_YsZ",
        "colab": {
          "base_uri": "https://localhost:8080/"
        },
        "outputId": "b2f8a834-2641-4450-fd15-ebab492313f9"
      },
      "execution_count": 10,
      "outputs": [
        {
          "output_type": "stream",
          "name": "stdout",
          "text": [
            "Summary:\n",
            "PDFs saved = 0\n",
            "PDFs skipped = 3\n",
            "Emails processed = 18\n"
          ]
        }
      ]
    },
    {
      "cell_type": "markdown",
      "source": [
        "Connects the notebook to Google Drive using the official Google Drive API v3. After authenticating the Google account, it searches for (or creates) an “Invoices” folder in Google Drive. The script then scans the local invoices folder for all PDF files downloaded from Gmail. Each file is checked against existing files in the Drive folder to avoid duplicates, and only new PDFs are uploaded to Google Drive."
      ],
      "metadata": {
        "id": "CaMST7gkJMPo"
      }
    },
    {
      "cell_type": "code",
      "source": [
        "# Authenticate and build Drive API service\n",
        "auth.authenticate_user()\n",
        "drive_service = build('drive', 'v3')\n",
        "\n",
        "# Create or get the \"Invoices\" folder in Google Drive\n",
        "folder_name = \"Invoices\"\n",
        "# Search for the folder in Drive (ignore trashed files)\n",
        "query = f\"name='{folder_name}' and mimeType='application/vnd.google-apps.folder' and trashed=false\"\n",
        "results = drive_service.files().list(q=query, spaces='drive', fields='files(id, name)').execute()\n",
        "items = results.get('files', [])\n",
        "\n",
        "# Use existing folder if found, otherwise create a new one\n",
        "if items:\n",
        "    folder_id = items[0]['id']\n",
        "    print(f\"Found existing folder: {folder_name} (ID: {folder_id})\")\n",
        "else:\n",
        "    file_metadata = {\n",
        "        'name': folder_name,\n",
        "        'mimeType': 'application/vnd.google-apps.folder'\n",
        "    }\n",
        "    folder = drive_service.files().create(body=file_metadata, fields='id').execute()\n",
        "    folder_id = folder.get('id')\n",
        "    print(f\"Created new folder: {folder_name} (ID: {folder_id})\")"
      ],
      "metadata": {
        "id": "OnjgJa3eJL63",
        "colab": {
          "base_uri": "https://localhost:8080/"
        },
        "outputId": "a8374c34-6494-4e04-93c9-2e2df81c03c8"
      },
      "execution_count": 11,
      "outputs": [
        {
          "output_type": "stream",
          "name": "stdout",
          "text": [
            "Found existing folder: Invoices (ID: 1NWj5yDw3gD63iYpP0UVrQAOAuSFLZbpA)\n"
          ]
        }
      ]
    },
    {
      "cell_type": "code",
      "source": [
        "# Upload PDFs to Google Drive without duplicates\n",
        "upload_folder = \"invoices\"\n",
        "pdf_files = glob.glob(f\"{upload_folder}/*.pdf\")\n",
        "uploaded_count = 0\n",
        "skipped_count = 0\n",
        "\n",
        "for file_path in pdf_files:\n",
        "    file_name = os.path.basename(file_path)\n",
        "\n",
        "    # Check if file already exists in target Drive folder\n",
        "    check_query = f\"name='{file_name}' and '{folder_id}' in parents and trashed=false\"\n",
        "    check_results = drive_service.files().list(q=check_query, spaces='drive', fields='files(id)').execute()\n",
        "\n",
        "    if check_results.get('files'):\n",
        "        print(f\"Skipped (duplicate found): {file_name}\")\n",
        "        skipped_count += 1\n",
        "        continue\n",
        "\n",
        "    # Upload file to the folder\n",
        "    file_metadata = {\n",
        "        'name': file_name,\n",
        "        'parents': [folder_id]\n",
        "    }\n",
        "    media = MediaFileUpload(file_path, mimetype='application/pdf')\n",
        "    uploaded_file = drive_service.files().create(\n",
        "        body=file_metadata,\n",
        "        media_body=media,\n",
        "        fields='id'\n",
        "    ).execute()\n",
        "\n",
        "    print(f\"Uploaded: {file_name} (ID: {uploaded_file.get('id')})\")\n",
        "    uploaded_count += 1\n",
        "\n",
        "print(f\"\\nUploaded PDFs: {uploaded_count}\")\n",
        "print(f\"Skipped duplicates: {skipped_count}\")"
      ],
      "metadata": {
        "id": "Jq_5rbn5XfIh",
        "colab": {
          "base_uri": "https://localhost:8080/"
        },
        "outputId": "599d39df-44f7-4910-ff0b-6fee6ff9f3c3"
      },
      "execution_count": 12,
      "outputs": [
        {
          "output_type": "stream",
          "name": "stdout",
          "text": [
            "Skipped (duplicate found): 80386754 - May 2025.pdf\n",
            "Skipped (duplicate found): 80386754 - June 2025.pdf\n",
            "Skipped (duplicate found): document8831403770296183126.pdf\n",
            "\n",
            "Uploaded PDFs: 0\n",
            "Skipped duplicates: 3\n"
          ]
        }
      ]
    }
  ]
}